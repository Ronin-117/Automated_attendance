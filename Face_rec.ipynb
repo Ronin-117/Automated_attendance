{
 "cells": [
  {
   "cell_type": "code",
   "execution_count": 1,
   "id": "205b9350-ca72-477b-9bb9-e762cfb17e5a",
   "metadata": {},
   "outputs": [],
   "source": [
    "import cv2\n",
    "import numpy as np\n",
    "import face_recognition\n",
    "import os\n",
    "import pickle\n",
    "from datetime import datetime"
   ]
  },
  {
   "cell_type": "code",
   "execution_count": 2,
   "id": "a52c1675-3f0a-4708-b83b-2785de8677de",
   "metadata": {},
   "outputs": [
    {
     "name": "stdout",
     "output_type": "stream",
     "text": [
      "['01_Aaliya M Ismail.jpg', '02_AAQUIB HANAN.jpg', '04_Abhijith AK.jpg', '06_ABINAND B ARJUN.jpg', '07_AFNA V N_.jpg', '08_Akshay S.jpg', '09_Alan Benny_.jpg', '12_Anal Reji_.jpg', '14_Arjun S.jpg', '15_Arrchitha Kesavadas_.jpg', '16_Arun Nand B S.JPG', '17_Arya Ajayan.jpg', '18_Arya N V.jpg', '20_Aslam ks.jpg', '21_Bharath S.jpg', '22_Christina Dixon_.jpg', '24_Devika Padmanabhan.jpg', '26_Gowri Sankara Kanth S.jpg', '28_JOFIN JOJI.jpg', '29_Jovita Joy.jpg', '30_JOYAL JOSE.jpg', '32_K Vaishnav Nair.jpg', '33_Keerthana R Warrier.jpg', '34_KRISHNAJA T N.jpg', '35_Lakshmi A Nair.jpg', '36_Lakshmi Balan.jpg', '37_Lakshmi PM_.jpg', '38_M S Arjun.jpg', '39_Maheswar Babu.jpg', '40_MAHMOOD SHEFIN.jpg', '44_Merin Johny_.jpg', '45_Merin philip .jpg', '46_Muhammed Fayiz M.A.jpeg', '47_Nandana E S.jpg', '48_Naveen Suresh.jpg', '49_Neha shaji.JPG', '50_Neil Joseph.jpg', '53_NOGIL BINU_.jpg', '54_Rapheal Rodic Sebastian .jpg', '56_SAMJISH.K.S.jpg', '57_Sanal T.jpg', '58_Sayaan Seemon.JPG', '59_Sayandhana KS.jpg', '60_SEBASTIAN SAJU P .jpg', '61_TOM SAIN.jpg', '63_Varun Solaman.jpg', '65_Zain Bastin.JPG']\n",
      "['01_Aaliya M Ismail', '02_AAQUIB HANAN', '04_Abhijith AK', '06_ABINAND B ARJUN', '07_AFNA V N_', '08_Akshay S', '09_Alan Benny_', '12_Anal Reji_', '14_Arjun S', '15_Arrchitha Kesavadas_', '16_Arun Nand B S', '17_Arya Ajayan', '18_Arya N V', '20_Aslam ks', '21_Bharath S', '22_Christina Dixon_', '24_Devika Padmanabhan', '26_Gowri Sankara Kanth S', '28_JOFIN JOJI', '29_Jovita Joy', '30_JOYAL JOSE', '32_K Vaishnav Nair', '33_Keerthana R Warrier', '34_KRISHNAJA T N', '35_Lakshmi A Nair', '36_Lakshmi Balan', '37_Lakshmi PM_', '38_M S Arjun', '39_Maheswar Babu', '40_MAHMOOD SHEFIN', '44_Merin Johny_', '45_Merin philip ', '46_Muhammed Fayiz M.A', '47_Nandana E S', '48_Naveen Suresh', '49_Neha shaji', '50_Neil Joseph', '53_NOGIL BINU_', '54_Rapheal Rodic Sebastian ', '56_SAMJISH.K.S', '57_Sanal T', '58_Sayaan Seemon', '59_Sayandhana KS', '60_SEBASTIAN SAJU P ', '61_TOM SAIN', '63_Varun Solaman', '65_Zain Bastin']\n"
     ]
    }
   ],
   "source": [
    "path = 'Training_images'\n",
    "images = []\n",
    "classNames = []\n",
    "myList = os.listdir(path)\n",
    "print(myList)\n",
    "for cl in myList:\n",
    "    curImg = cv2.imread(f'{path}/{cl}')\n",
    "    images.append(curImg)\n",
    "    classNames.append(os.path.splitext(cl)[0])\n",
    "print(classNames)"
   ]
  },
  {
   "cell_type": "code",
   "execution_count": 3,
   "id": "48b80770-1f02-4bad-a424-24820722f699",
   "metadata": {},
   "outputs": [],
   "source": [
    "def save_encodings(encodings, file_path='encodings.pkl'):\n",
    "    with open(file_path, 'wb') as f:\n",
    "        pickle.dump(encodings, f)\n",
    "    print('Encodings saved to', file_path)\n",
    "\n",
    "def load_encodings(file_path='encodings.pkl'):\n",
    "    with open(file_path, 'rb') as f:\n",
    "        encodings = pickle.load(f)\n",
    "    print('Encodings loaded from', file_path)\n",
    "    return encodings"
   ]
  },
  {
   "cell_type": "code",
   "execution_count": 20,
   "id": "4c8a4f35-a530-4817-8eea-f8d8ebb6def8",
   "metadata": {},
   "outputs": [
    {
     "name": "stdout",
     "output_type": "stream",
     "text": [
      "Encoding Complete\n",
      "Encodings saved to encoding_passport_size_large\n"
     ]
    }
   ],
   "source": [
    "def findEncodings(images):\n",
    "    encodeList = []\n",
    "\n",
    "\n",
    "    for img in images:\n",
    "        img = cv2.cvtColor(img, cv2.COLOR_BGR2RGB)\n",
    "        encode = face_recognition.face_encodings(img, num_jitters=2, model='large')[0]\n",
    "        encodeList.append(encode)\n",
    "    return encodeList\n",
    "\n",
    "encodeListKnown = findEncodings(images)\n",
    "print('Encoding Complete')\n",
    "save_encodings(encodeListKnown,'encoding_passport_size_large.pkl')"
   ]
  },
  {
   "cell_type": "code",
   "execution_count": 4,
   "id": "371aef19-9a83-4b92-a3d4-74836928ed7e",
   "metadata": {},
   "outputs": [
    {
     "name": "stdout",
     "output_type": "stream",
     "text": [
      "Encodings loaded from encoding_passport_size_large.pkl\n"
     ]
    }
   ],
   "source": [
    "loaded_encodings =  load_encodings('encoding_passport_size_large.pkl')"
   ]
  },
  {
   "cell_type": "code",
   "execution_count": 12,
   "id": "49e7d5ed-a289-42d6-8a81-2ed62169e7aa",
   "metadata": {},
   "outputs": [
    {
     "data": {
      "text/plain": [
       "47"
      ]
     },
     "execution_count": 12,
     "metadata": {},
     "output_type": "execute_result"
    }
   ],
   "source": [
    "len(loaded_encodings)"
   ]
  },
  {
   "cell_type": "code",
   "execution_count": 5,
   "id": "0e6f3bd0-5163-4c6b-b422-eecf5af955f5",
   "metadata": {},
   "outputs": [],
   "source": [
    "def markAttendance(name):\n",
    "    file_path = 'Attendance.csv'\n",
    "    if not os.path.exists(file_path):\n",
    "        with open(file_path, 'w') as f:\n",
    "            f.write('Name,Time\\n')\n",
    "    \n",
    "    with open(file_path, 'r+') as f:\n",
    "        myDataList = f.readlines()\n",
    "        nameList = [line.split(',')[0] for line in myDataList]\n",
    "        \n",
    "        if name not in nameList:\n",
    "            now = datetime.now()\n",
    "            dtString = now.strftime('%H:%M:%S')\n",
    "            f.write(f'{name},{dtString}\\n')"
   ]
  },
  {
   "cell_type": "code",
   "execution_count": 7,
   "id": "91b195a9-bc39-4460-ab24-f7f72c07d65b",
   "metadata": {},
   "outputs": [
    {
     "name": "stdout",
     "output_type": "stream",
     "text": [
      "14_ARJUN S\n",
      "14_ARJUN S\n",
      "14_ARJUN S\n",
      "14_ARJUN S\n",
      "14_ARJUN S\n",
      "50_NEIL JOSEPH\n",
      "50_NEIL JOSEPH\n",
      "50_NEIL JOSEPH\n",
      "54_RAPHEAL RODIC SEBASTIAN \n",
      "54_RAPHEAL RODIC SEBASTIAN \n",
      "54_RAPHEAL RODIC SEBASTIAN \n",
      "46_MUHAMMED FAYIZ M.A\n",
      "24_DEVIKA PADMANABHAN\n",
      "65_ZAIN BASTIN\n",
      "65_ZAIN BASTIN\n",
      "65_ZAIN BASTIN\n",
      "08_AKSHAY S\n",
      "08_AKSHAY S\n",
      "50_NEIL JOSEPH\n",
      "50_NEIL JOSEPH\n",
      "50_NEIL JOSEPH\n",
      "50_NEIL JOSEPH\n",
      "30_JOYAL JOSE\n",
      "45_MERIN PHILIP \n",
      "46_MUHAMMED FAYIZ M.A\n",
      "28_JOFIN JOJI\n",
      "28_JOFIN JOJI\n",
      "28_JOFIN JOJI\n",
      "28_JOFIN JOJI\n",
      "28_JOFIN JOJI\n",
      "12_ANAL REJI_\n",
      "28_JOFIN JOJI\n",
      "58_SAYAAN SEEMON\n",
      "58_SAYAAN SEEMON\n",
      "32_K VAISHNAV NAIR\n",
      "54_RAPHEAL RODIC SEBASTIAN \n",
      "58_SAYAAN SEEMON\n",
      "08_AKSHAY S\n",
      "32_K VAISHNAV NAIR\n",
      "58_SAYAAN SEEMON\n",
      "58_SAYAAN SEEMON\n",
      "54_RAPHEAL RODIC SEBASTIAN \n",
      "32_K VAISHNAV NAIR\n",
      "32_K VAISHNAV NAIR\n",
      "32_K VAISHNAV NAIR\n",
      "32_K VAISHNAV NAIR\n",
      "32_K VAISHNAV NAIR\n",
      "32_K VAISHNAV NAIR\n",
      "32_K VAISHNAV NAIR\n",
      "32_K VAISHNAV NAIR\n",
      "58_SAYAAN SEEMON\n",
      "32_K VAISHNAV NAIR\n",
      "58_SAYAAN SEEMON\n",
      "58_SAYAAN SEEMON\n",
      "58_SAYAAN SEEMON\n",
      "40_MAHMOOD SHEFIN\n",
      "40_MAHMOOD SHEFIN\n",
      "40_MAHMOOD SHEFIN\n",
      "40_MAHMOOD SHEFIN\n",
      "40_MAHMOOD SHEFIN\n",
      "40_MAHMOOD SHEFIN\n",
      "28_JOFIN JOJI\n",
      "28_JOFIN JOJI\n",
      "28_JOFIN JOJI\n",
      "28_JOFIN JOJI\n",
      "40_MAHMOOD SHEFIN\n",
      "28_JOFIN JOJI\n",
      "40_MAHMOOD SHEFIN\n",
      "40_MAHMOOD SHEFIN\n"
     ]
    },
    {
     "ename": "KeyboardInterrupt",
     "evalue": "",
     "output_type": "error",
     "traceback": [
      "\u001b[1;31m---------------------------------------------------------------------------\u001b[0m",
      "\u001b[1;31mKeyboardInterrupt\u001b[0m                         Traceback (most recent call last)",
      "Cell \u001b[1;32mIn[7], line 9\u001b[0m\n\u001b[0;32m      6\u001b[0m imgS \u001b[38;5;241m=\u001b[39m cv2\u001b[38;5;241m.\u001b[39mresize(img, (\u001b[38;5;241m0\u001b[39m, \u001b[38;5;241m0\u001b[39m), \u001b[38;5;28;01mNone\u001b[39;00m, \u001b[38;5;241m0.25\u001b[39m, \u001b[38;5;241m0.25\u001b[39m)\n\u001b[0;32m      7\u001b[0m imgS \u001b[38;5;241m=\u001b[39m cv2\u001b[38;5;241m.\u001b[39mcvtColor(imgS, cv2\u001b[38;5;241m.\u001b[39mCOLOR_BGR2RGB)\n\u001b[1;32m----> 9\u001b[0m facesCurFrame \u001b[38;5;241m=\u001b[39m \u001b[43mface_recognition\u001b[49m\u001b[38;5;241;43m.\u001b[39;49m\u001b[43mface_locations\u001b[49m\u001b[43m(\u001b[49m\u001b[43mimgS\u001b[49m\u001b[43m,\u001b[49m\u001b[43m \u001b[49m\u001b[43mmodel\u001b[49m\u001b[38;5;241;43m=\u001b[39;49m\u001b[38;5;124;43m'\u001b[39;49m\u001b[38;5;124;43mhog\u001b[39;49m\u001b[38;5;124;43m'\u001b[39;49m\u001b[43m)\u001b[49m\u001b[38;5;66;03m#changed ,hog or cnn\u001b[39;00m\n\u001b[0;32m     10\u001b[0m encodesCurFrame \u001b[38;5;241m=\u001b[39m face_recognition\u001b[38;5;241m.\u001b[39mface_encodings(imgS, facesCurFrame, num_jitters\u001b[38;5;241m=\u001b[39m\u001b[38;5;241m2\u001b[39m, model\u001b[38;5;241m=\u001b[39m\u001b[38;5;124m'\u001b[39m\u001b[38;5;124mlarge\u001b[39m\u001b[38;5;124m'\u001b[39m)\u001b[38;5;66;03m#changed\u001b[39;00m\n\u001b[0;32m     12\u001b[0m \u001b[38;5;28;01mfor\u001b[39;00m encodeFace, faceLoc \u001b[38;5;129;01min\u001b[39;00m \u001b[38;5;28mzip\u001b[39m(encodesCurFrame, facesCurFrame):\n",
      "File \u001b[1;32m~\\Desktop\\Cuda_PWR\\lib\\site-packages\\face_recognition\\api.py:121\u001b[0m, in \u001b[0;36mface_locations\u001b[1;34m(img, number_of_times_to_upsample, model)\u001b[0m\n\u001b[0;32m    119\u001b[0m     \u001b[38;5;28;01mreturn\u001b[39;00m [_trim_css_to_bounds(_rect_to_css(face\u001b[38;5;241m.\u001b[39mrect), img\u001b[38;5;241m.\u001b[39mshape) \u001b[38;5;28;01mfor\u001b[39;00m face \u001b[38;5;129;01min\u001b[39;00m _raw_face_locations(img, number_of_times_to_upsample, \u001b[38;5;124m\"\u001b[39m\u001b[38;5;124mcnn\u001b[39m\u001b[38;5;124m\"\u001b[39m)]\n\u001b[0;32m    120\u001b[0m \u001b[38;5;28;01melse\u001b[39;00m:\n\u001b[1;32m--> 121\u001b[0m     \u001b[38;5;28;01mreturn\u001b[39;00m [_trim_css_to_bounds(_rect_to_css(face), img\u001b[38;5;241m.\u001b[39mshape) \u001b[38;5;28;01mfor\u001b[39;00m face \u001b[38;5;129;01min\u001b[39;00m \u001b[43m_raw_face_locations\u001b[49m\u001b[43m(\u001b[49m\u001b[43mimg\u001b[49m\u001b[43m,\u001b[49m\u001b[43m \u001b[49m\u001b[43mnumber_of_times_to_upsample\u001b[49m\u001b[43m,\u001b[49m\u001b[43m \u001b[49m\u001b[43mmodel\u001b[49m\u001b[43m)\u001b[49m]\n",
      "File \u001b[1;32m~\\Desktop\\Cuda_PWR\\lib\\site-packages\\face_recognition\\api.py:105\u001b[0m, in \u001b[0;36m_raw_face_locations\u001b[1;34m(img, number_of_times_to_upsample, model)\u001b[0m\n\u001b[0;32m    103\u001b[0m     \u001b[38;5;28;01mreturn\u001b[39;00m cnn_face_detector(img, number_of_times_to_upsample)\n\u001b[0;32m    104\u001b[0m \u001b[38;5;28;01melse\u001b[39;00m:\n\u001b[1;32m--> 105\u001b[0m     \u001b[38;5;28;01mreturn\u001b[39;00m \u001b[43mface_detector\u001b[49m\u001b[43m(\u001b[49m\u001b[43mimg\u001b[49m\u001b[43m,\u001b[49m\u001b[43m \u001b[49m\u001b[43mnumber_of_times_to_upsample\u001b[49m\u001b[43m)\u001b[49m\n",
      "\u001b[1;31mKeyboardInterrupt\u001b[0m: "
     ]
    }
   ],
   "source": [
    "cap = cv2.VideoCapture(0)\n",
    "counter = 0\n",
    "while True:\n",
    "    success, img = cap.read()\n",
    "# img = captureScreen()\n",
    "    imgS = cv2.resize(img, (0, 0), None, 0.25, 0.25)\n",
    "    imgS = cv2.cvtColor(imgS, cv2.COLOR_BGR2RGB)\n",
    "    \n",
    "    facesCurFrame = face_recognition.face_locations(imgS, model='hog')#changed ,hog or cnn\n",
    "    encodesCurFrame = face_recognition.face_encodings(imgS, facesCurFrame, num_jitters=2, model='large')#changed\n",
    "\n",
    "    for encodeFace, faceLoc in zip(encodesCurFrame, facesCurFrame):\n",
    "        matches = face_recognition.compare_faces(loaded_encodings, encodeFace, tolerance=0.5)#changed\n",
    "        faceDis = face_recognition.face_distance(loaded_encodings, encodeFace)#changed\n",
    "# print(faceDis)\n",
    "        matchIndex = np.argmin(faceDis)\n",
    "\n",
    "        if matches[matchIndex]:\n",
    "            name = classNames[matchIndex].upper()\n",
    "            print(name)\n",
    "            y1, x2, y2, x1 = faceLoc\n",
    "            y1, x2, y2, x1 = y1 * 4, x2 * 4, y2 * 4, x1 * 4\n",
    "            cv2.rectangle(img, (x1, y1), (x2, y2), (0, 255, 0), 2)\n",
    "            cv2.rectangle(img, (x1, y2 - 35), (x2, y2), (0, 255, 0), cv2.FILLED)\n",
    "            cv2.putText(img, name, (x1 + 6, y2 - 6), cv2.FONT_HERSHEY_COMPLEX, 1, (255, 255, 255), 2)\n",
    "            markAttendance(name)\n",
    "\n",
    "    cv2.imshow('Webcam', img)\n",
    "    cv2.waitKey(1)"
   ]
  }
 ],
 "metadata": {
  "kernelspec": {
   "display_name": "Python (Cuda_PWR)",
   "language": "python",
   "name": "cuda_pwr"
  },
  "language_info": {
   "codemirror_mode": {
    "name": "ipython",
    "version": 3
   },
   "file_extension": ".py",
   "mimetype": "text/x-python",
   "name": "python",
   "nbconvert_exporter": "python",
   "pygments_lexer": "ipython3",
   "version": "3.9.13"
  }
 },
 "nbformat": 4,
 "nbformat_minor": 5
}
